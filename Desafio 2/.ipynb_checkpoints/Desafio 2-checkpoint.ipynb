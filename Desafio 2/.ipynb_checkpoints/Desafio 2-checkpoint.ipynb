{
 "cells": [
  {
   "cell_type": "markdown",
   "id": "6af7faee-1561-47cd-a8bd-f0a90dec49e1",
   "metadata": {},
   "source": [
    "<dt>\n",
    "    <center>\n",
    "        <font size = 30> Desafio 2 </font>\n",
    "    </center>\n",
    "</dt>"
   ]
  },
  {
   "cell_type": "markdown",
   "id": "cbf3bce6-3134-48f9-a212-0449bbdd5ee0",
   "metadata": {},
   "source": [
    "## Separação dos líquidos da mistura e evaporação do combustível\n",
    "\n",
    "Este desafio constitui na separação dos líquidos da mistura em dois compostos, visto que neste projeto trabalhamos com misturas binárias. Como nossa mistura é um azeótropo, a temperatura de combustão dos compostos é muito próxima, logo a separação por destilação não pode ser realizada. Então, neste notebook, explicaremos alguns conceitos sobre como utilizar uma mistura azeótropa e como ela funcionará para providenciar energia para o ciclo Rankine, também considerando análises sobre os diagramas e os cálculos de volume por mol da mistura e pressão de vapor. "
   ]
  },
  {
   "cell_type": "markdown",
   "id": "20bf2ad6-f5e8-4712-a003-d666bb423a35",
   "metadata": {},
   "source": [
    "## Cálculo do Volume da mistura (por mol):\n",
    "\n",
    "Para trabalharmos com a mistura definida no desafio anterior, precisamos definir alguns cálculos relevantes que nos darão o comportamento desta mistura quando submetidos à sua temperatura de ebulição, e para iniciar, podemos calcular o Volume da mistura a qual estamos trabalhando, a fim de termos o volume final da mistura para utilizarmos com a 1 Tonelada definida no início da disciplina.\n",
    "\n",
    "A equação que define o Volume da mistura por mol, é dada em termos das **quantidades parciais molares *(x)*** dos compostos 0 e 1, e seus **pesos moleculares *(mw)***, divididos pela **Densidade da mistura *(p)***:\n",
    "\n",
    "### $$ V_{por mol} = \\frac{x_1 mw_1 + (1 - x_1)mw_2}{\\rho_{mistura (x_1)}} $$\n",
    "\n",
    "Os valores selecionados de quantidades parciais molares dos compostos, juntamente aos valores conhecidos de peso molecular, e a densidade da mistura, nos dão todos os ingredientes para substituir os valores na fórmula de Volume da mistura por mol:\n",
    "\n",
    "##\n",
    "\n",
    "| Propriedades | Acetato de Etila | Etanol |\n",
    "| --- | --- | --- |\n",
    "| ***x*** | 0.55 | 0.45 |\n",
    "| ***mw*** | 46,07 g/mol | 88,11 g/mol |\n",
    "| ***p*** | 0,8439 g/cm-³ |\n",
    "\n",
    "###\n",
    "\n",
    "Substituindo as constantes ***x*** e ***mw*** pelos valores de quantidade parcial molar selecionados e pelos pesos moleculares de cada composto, podemos substituir na equação, encontrando que o Volume por mol da mistura é:"
   ]
  },
  {
   "cell_type": "code",
   "execution_count": 81,
   "id": "9c8b8637-242c-4b26-a174-f00ebbb9e0dd",
   "metadata": {},
   "outputs": [
    {
     "name": "stdout",
     "output_type": "stream",
     "text": [
      "O volume por mol da mistura é 0.8137419591444444 L/mol\n"
     ]
    }
   ],
   "source": [
    "massa_t = 1000 #KG usados ao longo dos desafios\n",
    "x1a = 0.55 #Fração molar Acetato de Etila\n",
    "x2a = 0.45 #Fração molar Etanol\n",
    "mx1 = massa_t * x1a # massa do composto Acetato de etila, em kg/mol\n",
    "mx2 = massa_t * x2a # massa do Etanol, em kg/mol\n",
    "mw1 = 0.4607 # massa molar do Acetato de Etila (kg/mol)\n",
    "mw2 = 0.8811 # massa molar do Etanol (kg/mol)\n",
    "dens_x1 = 0.902 # densidade Acetato de Etila (g/ml) \n",
    "dens_x2 = 0.789 # densidade Etanol (g/ml)\n",
    "dens_mist = 0.8439 # densidade da mistura (g/mL)\n",
    "mols_x1 = mx1/x1a # numero de mols do Acetato de Etila\n",
    "mols_x2 = mx2/x2a # numero de mols do Etanol\n",
    "x1 = mols_x1/(mols_x1 + mols_x2) # fração molar do Acetato de Etila pelo n° de mols\n",
    "x2 = mols_x2/(mols_x1 + mols_x2) # fração molar do Etanol pelo n° de mols\n",
    "vol_x1 = mw1/dens_x1 # volume molar do Acetato de Etila em m³/mol\n",
    "vol_x2 = mw2/dens_x2 # volume molar do Etanol em m³/mol\n",
    "\n",
    "V_mol = (vol_x1 * x1) + (vol_x2 * x2) # volume da mistura em L/mol\n",
    "V_mistura = ((x1 * mols_x1 + (1-x1) * mols_x2)/dens_mist) # Volume total da mistura\n",
    "             \n",
    "print(\"O volume por mol da mistura é\", V_mol, \"L/mol\")"
   ]
  },
  {
   "cell_type": "markdown",
   "id": "51bf3821-eff0-4cbd-808f-e359c0d6d043",
   "metadata": {},
   "source": [
    "## $$ V_{(por mol)} = 0.8137419591444444 (L/mol) $$"
   ]
  },
  {
   "cell_type": "code",
   "execution_count": 82,
   "id": "ecbd4ba4-02cf-49fa-b855-54e43742a95d",
   "metadata": {},
   "outputs": [
    {
     "name": "stdout",
     "output_type": "stream",
     "text": [
      "O volume total da mistura, para 1 Tonelada, é 1184.9745230477545 L\n"
     ]
    }
   ],
   "source": [
    "print(\"O volume total da mistura, para 1 Tonelada, é\", V_mistura, \"L\")"
   ]
  },
  {
   "cell_type": "markdown",
   "id": "b5ef8b72-d121-46c6-8944-fd67814c1b5a",
   "metadata": {},
   "source": [
    "## $$ V_{(total)} = 1184.9745230477545 (L) $$"
   ]
  },
  {
   "cell_type": "markdown",
   "id": "505fbe62-1081-4970-9d59-1fb79ca1453c",
   "metadata": {},
   "source": [
    "## Idealidade da mistura"
   ]
  },
  {
   "cell_type": "markdown",
   "id": "e7d7fc23-72f4-4ba9-a5f4-127f60e19e45",
   "metadata": {},
   "source": [
    "Trabalhando com misturas binárias, podemos relacionar o conceito de energia livre de Gibbs, que varia conforme o sistema binário está fora do equilíbrio, com a quantidade parcial molar dos compostos. Isso irá nos dizer se a mistura é **miscível** ou não, dependendo de $ \\Delta G $. Uma mistura ideal apresentará um comportamento de parábola com concavidade para cima, com $ \\Delta G \\ll 0 $, e uma mistura não miscível terá o valor de $ \\Delta G > 0 $, com um comportamento linear, ou de parábola com concavidade para baixo. Isso se dá ao fato de que, quanto menor for a variação da energia livre de Gibbs, maior a espontaniedade de uma reação ocorrer, logo para uma mistura ser miscível devemos ter uma quantidade considerável de cada composto, aumentando a variedade do sistema, para que $ \\Delta G $ diminua.\n",
    "\n",
    "Nos casos onde temos uma mistura não ideal (ou seja, que $ \\Delta G > 0 $, a temperatura pode fazer com que a mistura entre os compostos ocorra, visto que $ \\Delta G $ é dado por $ \\Delta H - T \\Delta S $, e assim, se o valor T é muito alto, ele irá vencer contra $ \\Delta H $, fazendo com que uma mistura seja possível.\n",
    "Para nosso caso, a mistura tem comportamento ideal, pois $ \\Delta G < 0 $, logo a mistura irá ocorrer sem maiores problemas.\n",
    "\n",
    "##\n",
    "\n",
    "<dt>\n",
    "<center> \n",
    "<img src=\"miscivel.png\" style=\"width:600px;height:400px\"/>\n",
    "<figcaption> $ \\textbf{Fig. 1:}$ Exemplo do comportamento de misturas miscíveis e não miscíveis em função de $ \\Delta G $ e a quantidade parcial molar de um composto. $\\textbf{Detalhe}$, aqui também é considerada a Energia de Gibbs de excesso, por isso os valores de A não são negativos. </figcaption>\n",
    "</center>\n",
    "</dt>"
   ]
  },
  {
   "cell_type": "markdown",
   "id": "4921e5a4-28dd-4f34-81dc-bbff3587e4a8",
   "metadata": {},
   "source": [
    "\n",
    "## Definição da quantidade parcial molar dos compostos e limitantes\n",
    "\n",
    "Definimos que o próprio ponto azeótropo de 0.55 visto no diagrama será justamente a quantidade parcial molar do composto ***Acetato de Etila*** (x = 0). Escolhemos esta quantidade pois, visto que durante o processo de aquecimento da mistura ocorrerão períodos de equilíbrio entre as fases e liquefação do vapor devido à queda da temperatura, e isso resultará na evaporação da mistura com a concentração presente no ponto azeótropo, independentemente da quantidade parcial molar escolhida inicialmente.\n",
    "\n",
    "Vale notar que, ao longo da atividade, trabalharemos com uma tonelada de compostos, logo teremos 550KG de Acetato de Etila + 450KG de Etanol. Podemos alterar a quantidade parcial molar escolhida baseando-se em nosso composto de interesse. Por exemplo, poderíamos escolher uma maior quantidade de Acetato de Etila pois este apresenta uma entalpia de combustão maior que do composto Etanol, e com isso podemos selecionar um ponto no qual a quantidade parcial molar de Acetato de Etila seja maior, como por exemplo 0.7. Mas, lembrando que devido a estarmos trabalhando com um azeótropo, o volume final de vapor será uma mistura de 55% de Acetato de Etila e 45% de Etanol, porém neste caso a ***massa da mistura*** terá maior quantidade de Acetato de Etila.\n",
    "\n",
    "No diagrama a seguir, exemplificamos o que aconteceria se tivéssemos escolhido uma quantidade parcial molar qualquer de Acetato de Etila. Foram ilustradas linhas representando os processos de liquefação **(*vermelho*)** e equilíbrio **(*preto*)** a fim de identificarmos a quantidade parcial molar dos compostos em suas fases de vapor e líquida."
   ]
  },
  {
   "cell_type": "markdown",
   "id": "c8037254-45ce-4c87-bd85-5f1fda64c379",
   "metadata": {},
   "source": [
    "##\n",
    "\n",
    "<dt>\n",
    "<center> \n",
    "<img src=\"VLE Acetato parcial.png\" style=\"width:600px;height:400px\"/>\n",
    "<figcaption> $ \\textbf {Fig. 2} $ Diagrama de fases da mistura envolvendo Acetato de Etila e Etanol em função da Temperatura [K°]. O eixo X representa as quantidades parciais molares referentes ao nosso composto de interesse, Acetato de Etila. </figcaption>\n",
    "</center>\n",
    "</dt>\n",
    "\n",
    "##"
   ]
  },
  {
   "cell_type": "markdown",
   "id": "f0d6304c-0f01-4ad8-94fc-b8bd6ae8be1b",
   "metadata": {},
   "source": [
    "### Por que o ponto azeótropo ***neste caso*** é a melhor escolha de quantidade parcial molar?\n",
    "\n",
    "Como demonstrado pela **regra da alavanca**, independentemente da quantidade parcial molar a qual escolhermos de um composto (digamos, Acetato de Etila), o vapor resultante da ebulição da mistura terá sempre a mesma composição de 55% de Acetato de Etila, e 45% de Etanol. Por isso, a melhor estratégia considerando que vamos usar 1 tonelada de material, é escolher como quantidade parcial molar justamente o ponto onde a mistura tem a mesma relação. \n",
    "Por exemplo, ao escolhermos 55% de Acetato de Etila, de uma tonelada, teremos 550KG deste composto, e 450KG de Etanol. Quando a mistura estiver sendo aquecida, o Etanol agirá como um **limitante**, visto que teremos um vapor da mistura dos compostos evaporados até o Etanol acabar, e restaria 100KG de Acetato de Etila em estado líquido. Se considerarmos outra quantidade parcial molar, digamos 70% de Acetato de Etila, teremos a mesma quantidade parcial em vapor, dado pelo ponto azeótropo, de 55% de Acetato de Etila e 45% de Etanol, porém o Etanol seria limitante com 300KG apenas, restando 400KG de Acetato de Etila em estado Líquido.\n",
    "Poderíamos realizar um enriquecimento do Acetato de Etila, mas seria necessário mais Etanol para isso, logo, a melhor estratégia é usar a quantidade parcial molar onde se encontra o ponto azeótropo, pois o Etanol limitará o vapor da mistura bem menos do que com outras quantidades.\n",
    "\n",
    "## Pressão de Vapor parcial e total dos compostos e o comportamento da mistura\n",
    "\n",
    "Pela lei de Raoult, podemos calcular a pressão de vapor de cada componente da mistura binária, a partir da equação:\n",
    "\n",
    "## $$ P_{total} = P_1 + P_2 $$\n",
    "\n",
    "### $$ P_1 = x_1 P^*_1 $$\n",
    "### $$ P_2 = x_2 P^*_2 $$\n",
    "\n",
    "Substituindo os valores para a quantidade parcial molar do ponto azeótropo 0.55 com relação ao Acetato de Etila, obtemos que a pressão de vapor total na temperatura de ebulição dos dois compostos (101.138K e 101.325K respectivamente) é\n",
    "\n",
    "### $$ P_1 = 0.55 * 101.138kPa = 55.63 kPa $$\n",
    "### $$ P_2 = 0.45 * 101.325kPa = 45.60 kPa $$\n",
    "\n",
    "## $$ P_{total} = 55.63 + 45.60 = 101.23kPa$$\n",
    "\n",
    "\n",
    "Dados estes valores, podemos calcular a composição da fase do vapor no diagrama de fases, em função da temperatura, utilizando da lei de Dalton:\n",
    "\n",
    "### $$ y_1 = \\frac{P_1}{P_{total}} = 0.55 $$\n",
    "### $$ y_2 = \\frac{P_2}{P_{total}} = 0.45 $$\n",
    "\n",
    "O resultado deste cálculo prova a explicação do vapor resultante da ebulição da mistura ter a mesma fração parcial molar de cada composto, independente da fração molar escolhida inicialmente, para misturas azeótropas."
   ]
  }
 ],
 "metadata": {
  "kernelspec": {
   "display_name": "ilumpy",
   "language": "python",
   "name": "ilumpy"
  },
  "language_info": {
   "codemirror_mode": {
    "name": "ipython",
    "version": 3
   },
   "file_extension": ".py",
   "mimetype": "text/x-python",
   "name": "python",
   "nbconvert_exporter": "python",
   "pygments_lexer": "ipython3",
   "version": "3.9.7"
  }
 },
 "nbformat": 4,
 "nbformat_minor": 5
}
