{
 "cells": [
  {
   "cell_type": "markdown",
   "id": "a37ee68b-3fe3-4748-88f5-2c31f05d391d",
   "metadata": {},
   "source": [
    "<img src= \"Ilum_sem assinatura.png\">"
   ]
  },
  {
   "cell_type": "markdown",
   "id": "3b2074f8-ccd2-4b85-9e0c-e99e622ac7a1",
   "metadata": {},
   "source": [
    "<font face=\"Garamond\" size=\"20\" color=\"#8b008b\">**Mistura com potencial para fornecimento de energia ao ciclo Rankine**</font>"
   ]
  },
  {
   "cell_type": "markdown",
   "id": "9352a60b-8d54-478c-81fb-7b7181c68753",
   "metadata": {},
   "source": [
    "*Líquidos utilizados: Benzeno e Tolueno*\n",
    "\n",
    "*Fração molar dos componentes: 0.4 de Benzeno e 0.6 de Tolueno*"
   ]
  },
  {
   "cell_type": "code",
   "execution_count": 1,
   "id": "db32da16-12ce-4ae2-9c0e-0e33bef2aea8",
   "metadata": {},
   "outputs": [],
   "source": [
    "import pandas as pd\n",
    "import seaborn as sns\n",
    "import numpy as np\n",
    "from matplotlib import pyplot as plt\n",
    "from uncertainties import ufloat"
   ]
  },
  {
   "cell_type": "markdown",
   "id": "adb26631-c8b8-4a99-8f26-84f4c0897ed8",
   "metadata": {},
   "source": [
    "## Desafio 3"
   ]
  },
  {
   "cell_type": "markdown",
   "id": "a7a8e5c3-d813-4d05-a085-cb0979dacfa1",
   "metadata": {},
   "source": [
    "Objetivos do desafio: combustão do composto escolhido\n",
    "\n",
    "Precisaremos de:\n",
    " \n",
    "  - Potenciais termodinâmicos envolvidos na reação de combustão\n",
    "\n",
    "        [ ] energia interna\n",
    "\n",
    "        [ ] entalpia\n",
    "\n",
    "        [ ] energia livre de gibbs\n",
    "\n",
    "   - Entropia envolvida na reação de combustão\n",
    "    \n",
    "   - Equação de estado a ser usado no sistema"
   ]
  },
  {
   "cell_type": "markdown",
   "id": "569102db-42f4-4feb-9831-efa7e809d075",
   "metadata": {},
   "source": [
    "<h5 allign = 'justify', style = 'color: red;'> OBS: Estão bem definidos os objetivos do Desafio, assim como as grandezas necessárias para atingir estes objetivos."
   ]
  },
  {
   "cell_type": "markdown",
   "id": "29a8d8ad-5b79-4d35-947a-777f55a0c092",
   "metadata": {
    "tags": []
   },
   "source": [
    "### Contexto:\n",
    "*Líquidos utilizados: Benzeno e Tolueno*\n",
    "\n",
    "*Fração molar dos componentes: 0.4 de Benzeno e 0.6 de Tolueno*\n",
    "massa"
   ]
  },
  {
   "cell_type": "markdown",
   "id": "663f2644",
   "metadata": {},
   "source": [
    "### **Potencias Termodinâmicos envolvidos na reção de combustão**"
   ]
  },
  {
   "cell_type": "markdown",
   "id": "0253a10a-148a-4ac3-a977-a64f0e838fc7",
   "metadata": {},
   "source": [
    "#### Energia Interna\n",
    "O sistema termodinâmico no equilíbrio trabalha de forma que a energia interna seja minimizada e a entropia seja maximizada.\n",
    "A energia interna é uma propriedade termodinâmica que representa a soma das energias cinética e potencial de todas as partículas que compõem um sistema termodinâmico¹. Ela pode ser descrita em função da entropia (S) e de outras variáveis extensivas². A energia interna é uma das funções de estado termodinâmicas e é uma propriedade intrínseca do sistema².\n",
    "\n",
    "(1) Energia interna: o que é, como calcular e exercícios resolvidos. https://brasilescola.uol.com.br/fisica/energia-interna.htm.\n",
    "(2) Universidade Federal de Juiz de Fora Minas Gerais. https://ufjf.br/fisica/files/2010/08/Potenciais-Termodin%C3%A2micos.pdf."
   ]
  },
  {
   "cell_type": "markdown",
   "id": "e3211876",
   "metadata": {},
   "source": [
    "#### Entalpia\n",
    "\n",
    "A entalpia é a quantidade de energia que é liberada ou absorvida durante uma reação. É representada por ∆H e é negativa para reações exotérmicas (liberam calor) e positiva para reações endotérmicas (absorvem calor).\n",
    "\n",
    "A entalpia de combustão por sua vez é a energia liberada quando um combustível é queimado em um sistema fechado. É uma medida da quantidade de energia liberada durante uma reação química. Segundo McQuarrie (Physical Chemistry: A Molecular Approach), a entalpia de combustão de um combustível pode ser calculada usando a seguinte equação:\n",
    "\n",
    "\n",
    "$ΔH_{combustão} = ΣH_{produtos} - ΣH_{reagentes}$\n",
    "\n",
    "\n",
    "Nesta equação, $ΔH_{combustão}$ é a entalpia de combustão, $ΣH_{produtos}$ é a soma das entalpias dos produtos da reação química, e $ΣH_{reagentes}$ é a soma das entalpias dos reagentes."
   ]
  },
  {
   "cell_type": "markdown",
   "id": "b6b99ff5-c189-497e-98e3-76ae54496f13",
   "metadata": {},
   "source": [
    "**Para o Benzeno:**\n",
    "\n",
    " $ 2 \\: C_6H_6 + 15 \\: O_2 \\rightleftharpoons 6 \\: H_2O + 12 \\: CO_2 $"
   ]
  },
  {
   "cell_type": "markdown",
   "id": "8a4a6b0b-7314-4478-954b-0aa3091eabf9",
   "metadata": {},
   "source": [
    "**Para o Tolueno:**\n",
    "\n",
    "$ \\: C_6H_5CH_3 + 9 \\: O_2 \\rightleftharpoons 7 \\: CO_2 + 4 \\: H_2O $"
   ]
  },
  {
   "cell_type": "code",
   "execution_count": 9,
   "id": "6a8a0f09-f5a6-481a-9670-51d3e148a356",
   "metadata": {},
   "outputs": [],
   "source": [
    "h_form_benzeno = ufloat(49.0, 0.5)\n",
    "h_form_tolueno = ufloat(12.0, 0.6)\n",
    "h_form_O2 = 0\n",
    "h_form_H2O = ufloat(-285.83, 0.04)\n",
    "h_form_CO2 = ufloat(-393.5, 0.1)"
   ]
  },
  {
   "cell_type": "markdown",
   "id": "a544dea8-7a2b-4336-9101-296570c098e7",
   "metadata": {},
   "source": [
    "<h5 allign = 'justify', style = 'color: red;'> OBS: Os conceitos de Energia Interna e Entalpia foram bem explicados, ligando-se no objetivo do desafio atual que envolve a combustão dos compostos. Com relação ao cálculo da entalpia utilizando as entalpias dos produtos e reagentes, não foi apresentado o valor final de entalpia da reação. As entalpias de formação dos elementos também estão um pouco confusas de se entender e sem a ordem de grandeza. Também não foi concluído se a partir do valor de entalpia, a reação seria exotérmica ou endotérmica, e a importância de se adicionar mols de O2 para a reação."
   ]
  },
  {
   "cell_type": "markdown",
   "id": "78b40ca3",
   "metadata": {},
   "source": [
    "#### Energia Livre de Gibbs\n",
    "\n",
    "A energia livre de Gibbs é a energia disponível para realizar trabalho e é definida como ∆G = ∆H - T∆S, onde T é a temperatura em Kelvin. Se ∆G é negativo, a reação é espontânea e liberará energia. Se ∆G é positivo, a reação não é espontânea e requer energia para ocorrer."
   ]
  },
  {
   "cell_type": "markdown",
   "id": "65277bc1",
   "metadata": {},
   "source": [
    "### **Entropia envolvida na reação de combustão**\n"
   ]
  },
  {
   "cell_type": "markdown",
   "id": "7382fcb7",
   "metadata": {},
   "source": [
    "A entropia é a medida da desordem de um sistema e é representada por ∆S. Uma reação que leva a um aumento na desordem do sistema tem um valor positivo de ∆S e é favorecida termodinamicamente."
   ]
  },
  {
   "cell_type": "markdown",
   "id": "55cc25d8-8e41-4f3c-bff1-85ac4e2f01dc",
   "metadata": {},
   "source": [
    "Para calcular a entropia envolvida na reação de combustão, precisaremos levar em consideração as fórmulas químicas de modo semelhante ao que foi feito com a entalpia. Dessa forma, temos que:"
   ]
  },
  {
   "cell_type": "code",
   "execution_count": 3,
   "id": "936950ef-e049-406e-8a91-d9a7f496270b",
   "metadata": {},
   "outputs": [],
   "source": [
    "s_benzeno =  -24.1 #J/mol K\n",
    "s_tolueno = -42.9 #J/mol K\n",
    "s_O2 = 205.0 #J/mol K\n",
    "s_H2O = 6.6 #J/mol K\n",
    "s_CO2 = 120.4 #J/mol K"
   ]
  },
  {
   "cell_type": "markdown",
   "id": "e56a70a1-80b9-4853-8611-a4bec49b2c33",
   "metadata": {},
   "source": [
    "**Para o Benzeno:**\n",
    "\n",
    " $ 2 \\: C_6H_6 + 15 \\: O_2 \\rightleftharpoons 6 \\: H_2O + 12 \\: CO_2 $"
   ]
  },
  {
   "cell_type": "code",
   "execution_count": 4,
   "id": "5a00f422-c3fa-40fe-a9d3-c3e77689b62d",
   "metadata": {},
   "outputs": [
    {
     "name": "stdout",
     "output_type": "stream",
     "text": [
      "A variação da entropia de combustão do benzeno é -771.2 J/mol K\n"
     ]
    }
   ],
   "source": [
    "# A cada 2 mols de benzeno:\n",
    "s_reagentes_benzeno = (2 * s_benzeno) + (15 * s_O2)\n",
    "s_produtos_benzeno = (6 * s_H2O) + (12 * s_CO2)\n",
    "s_comb_benzeno_2mol = s_produtos_benzeno - s_reagentes_benzeno\n",
    "\n",
    "# A cada mol:\n",
    "s_comb_benzeno_mol = s_comb_benzeno_2mol/2\n",
    "\n",
    "print(f'A variação da entropia de combustão do benzeno é {np.round(s_comb_benzeno_mol, 3)} J/mol K')\n"
   ]
  },
  {
   "cell_type": "markdown",
   "id": "6579081a-c168-417f-bf42-52717fbcd3a1",
   "metadata": {},
   "source": [
    "**Para o Tolueno:**\n",
    "\n",
    "$ \\: C_6H_5CH_3 + 9 \\: O_2 \\rightleftharpoons 7 \\: CO_2 + 4 \\: H_2O $"
   ]
  },
  {
   "cell_type": "code",
   "execution_count": 5,
   "id": "59bb8eca-14c2-48db-95d3-05f44d27961a",
   "metadata": {},
   "outputs": [
    {
     "name": "stdout",
     "output_type": "stream",
     "text": [
      "A variação da entropia de combustão do tolueno é -932.9 J/mol K\n"
     ]
    }
   ],
   "source": [
    "# A cada mol:\n",
    "s_reagentes_tolueno = s_tolueno + (9 * s_O2)\n",
    "s_produtos_tolueno = (7 * s_CO2) + (4 * s_H2O)\n",
    "s_comb_tolueno_mol = s_produtos_tolueno - s_reagentes_tolueno\n",
    "print(f'A variação da entropia de combustão do tolueno é {np.round(s_comb_tolueno_mol, 3)} J/mol K')"
   ]
  },
  {
   "cell_type": "markdown",
   "id": "63ada219-141a-4158-925c-271962121e7c",
   "metadata": {},
   "source": [
    "**Para a mistura:**\n"
   ]
  },
  {
   "cell_type": "code",
   "execution_count": 6,
   "id": "0a8053a1-da2d-45cc-87c8-143c40c0818e",
   "metadata": {},
   "outputs": [
    {
     "name": "stdout",
     "output_type": "stream",
     "text": [
      "A variação da entropia de combustão da mistura é -1193.14 J/mol K\n"
     ]
    }
   ],
   "source": [
    "s_reagentes_mistura = 0.6 * s_comb_tolueno_mol + 0.4 * s_comb_benzeno_mol + 14.4 * s_O2\n",
    "s_produtos_mistura = 7.2 * s_CO2 + 3.6 * s_H2O\n",
    "s_comb_mistura_mol = s_produtos_mistura - s_reagentes_mistura\n",
    "print(f'A variação da entropia de combustão da mistura é {np.round(s_comb_mistura_mol, 3)} J/mol K')"
   ]
  },
  {
   "cell_type": "markdown",
   "id": "60aa9d2d-6022-401f-b4c0-187b7ebcb13d",
   "metadata": {},
   "source": [
    "<h5 allign = 'justify', style = 'color: red;'> OBS: A definição de entropia está clara, porém achamos que não ficou muito explícito o porquê de utilizar esta variável termodinâmica quando considerando a combustão da mistura. A explicação sobre energia livre de Gibbs está sucinta porém objetiva. Os cálculos estão corretos."
   ]
  },
  {
   "cell_type": "markdown",
   "id": "e7c556fd",
   "metadata": {},
   "source": [
    "### Assim, \n",
    "\n",
    "As entalpias de formação padrão (∆Hfº) são as entalpias de formação de uma substância a partir de seus elementos constituintes, na forma de seus alótropos estáveis e na condição padrão (25°C, 1 atm). Já as entropias molares padrão (∆Sº) são a medida da desordem molecular de uma substância a uma dada temperatura e pressão, também na condição padrão."
   ]
  },
  {
   "cell_type": "markdown",
   "id": "19c45cdc",
   "metadata": {},
   "source": [
    "A equação geral para calcular ∆Gº a partir de ∆Hfº e ∆Sº é:\n",
    "\n",
    "∆Gº = ∆Hfº (produtos) - ∆Hfº (reagentes) - T ∆Sº\n",
    "\n",
    "onde T é a temperatura em Kelvin."
   ]
  },
  {
   "cell_type": "code",
   "execution_count": 7,
   "id": "d8f824aa",
   "metadata": {},
   "outputs": [
    {
     "name": "stdout",
     "output_type": "stream",
     "text": [
      "∆Hº = 102.00 kJ/mol\n",
      "∆Sº = -105.50 J/(mol*K)\n",
      "∆Gº = 31556.82 kJ/mol\n"
     ]
    }
   ],
   "source": [
    "# Definindo os valores de delta Hf e delta S das substâncias envolvidas\n",
    "delta_Hf_toluene = -39.5  # kJ/mol\n",
    "delta_Hf_benzene = 1.7  # kJ/mol\n",
    "delta_Hf_ethylbenzene = 64.2  # kJ/mol\n",
    "delta_S_toluene = 155.7  # J/(mol*K)\n",
    "delta_S_benzene = 173.2  # J/(mol*K)\n",
    "delta_S_ethylbenzene = 223.4  # J/(mol*K)\n",
    "\n",
    "# Cálculo das variações de entalpia, entropia e energia livre de Gibbs\n",
    "delta_H = delta_Hf_ethylbenzene - delta_Hf_toluene - delta_Hf_benzene  # em kJ/mol\n",
    "delta_S = delta_S_ethylbenzene - delta_S_toluene - delta_S_benzene  # em J/(mol*K)\n",
    "delta_G = delta_H - 298.15 * delta_S  # em kJ/mol, onde 298.15 é a temperatura padrão em K\n",
    "\n",
    "# Exibindo os resultados\n",
    "print(\"∆Hº = {:.2f} kJ/mol\".format(delta_H))\n",
    "print(\"∆Sº = {:.2f} J/(mol*K)\".format(delta_S))\n",
    "print(\"∆Gº = {:.2f} kJ/mol\".format(delta_G))"
   ]
  },
  {
   "cell_type": "code",
   "execution_count": null,
   "id": "537eb4b1",
   "metadata": {
    "vscode": {
     "languageId": "plaintext"
    }
   },
   "outputs": [],
   "source": [
    "∆Hº = 102.00 kJ/mol\n",
    "∆Sº = -105.50 J/(mol*K)\n",
    "∆Gº = 31556.82 kJ/mol"
   ]
  },
  {
   "cell_type": "markdown",
   "id": "744e3fb3-9237-4bf5-8f22-161b5626dcbf",
   "metadata": {
    "vscode": {
     "languageId": "plaintext"
    }
   },
   "source": [
    "<h2 allign = 'justify', style = 'color: red;'> Considerações Finais"
   ]
  },
  {
   "cell_type": "markdown",
   "id": "c066c3a4-a12a-4c64-b3d6-7da9c9c2e853",
   "metadata": {},
   "source": [
    "<h5 allign = 'justify', style = 'color: red;'> O notebook está bem organizado, com um passo a passo objetivo e definido de tal forma que fique claro a importância de cada potencial termodinâmico para a combustão da mistura, visando prover energia ao ciclo Rankine."
   ]
  },
  {
   "cell_type": "markdown",
   "id": "7620850a-fdd3-4b06-9f4d-1d030edffb84",
   "metadata": {},
   "source": [
    "<h5 style = 'color: red;'> Alguns cálculos estão um pouco confusos com relação à grandeza do resultado e o que isto implicaria, como no caso da entalpia da reação da mistura que é importante para o cálculo da energia livre de Gibbs e a espontaniedade da reação. Por fim, a partir de todos os potenciais termodinâmicos e energias calculadas, sentimos falta de algumas considerações importantes sobre os resultados, como por exemplo: \n",
    "    \n",
    "- A partir da entalpia de combustão da mistura se a reação seria exotérmica ou endotérmica;\n",
    "    \n",
    "- Se está sendo considerado que toda esta energia obtida é transferida diretamente em forma de calor para o ciclo Rankine, e não tem uma parcela dissipada para o meio externo;\n",
    "    \n",
    "- A partir da energia livre de Gibbs obtida, se a reação entre os compostos seria espontânea ou não;\n",
    "    \n",
    "- A utilização da energia interna abordada inicialmente para a construção da equação de estado do sistema, e quais conclusões poderiam ser desenvolvidas a partir de seu resultado."
   ]
  }
 ],
 "metadata": {
  "kernelspec": {
   "display_name": "ilumpy",
   "language": "python",
   "name": "ilumpy"
  },
  "language_info": {
   "codemirror_mode": {
    "name": "ipython",
    "version": 3
   },
   "file_extension": ".py",
   "mimetype": "text/x-python",
   "name": "python",
   "nbconvert_exporter": "python",
   "pygments_lexer": "ipython3",
   "version": "3.9.7"
  }
 },
 "nbformat": 4,
 "nbformat_minor": 5
}
