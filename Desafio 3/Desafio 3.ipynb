{
 "cells": [
  {
   "cell_type": "markdown",
   "id": "295fbac5-46d9-42ec-bf07-f4ef7f9d39e1",
   "metadata": {},
   "source": [
    "<dt>\n",
    "    <center>\n",
    "        <font size = 30> Desafio 3\n",
    "        </font>\n",
    "    </center>\n",
    "</dt>"
   ]
  },
  {
   "cell_type": "markdown",
   "id": "e645c74d-2855-4907-aed4-4146ed525ac7",
   "metadata": {},
   "source": [
    "<h3> \n",
    "    Agora que o combustível, composto de Acetato de Etila e Etanol, está na sua forma de vapor, devemos trabalhar em sua combustão, e para isso é fundamental a identificação de alguns apectos relevantes que ocorrem durante esta combustão, os quais incluem:\n",
    "</h3>\n",
    "\n",
    "<ul>\n",
    "    <li>Potenciais Termodinâmicos, como a Energia interna, Entalpia e Energia livre de Gibbs;</li>\n",
    "    <li>A entropia na reação de combustão;</li>\n",
    "    <li>A Equação de estado do sistema;</li>\n",
    "</ul>\n",
    "\n",
    "Estes aspectos considerados contém toda a informação necessária para que tenhamos a quantidade de energia que este combustível irá requisitar para que tenha sua combustão iniciada, o quão fácil será para que esta combustão ocorra, e o quanto de energia na forma de calor a combustão deste sistema irá ser transferida ao ciclo Rankine. **Um detalhe importante a ser observado, é que neste desafio, é considerado que toda a energia da combustão do combustível é transmitida na forma de calor para o ciclo, desconsiderando, por exemplo, o calor distribuído no compartimento o qual se armazena o combustível.**\n",
    "\n",
    "---------------"
   ]
  },
  {
   "cell_type": "markdown",
   "id": "d1ab3029-3d45-4b06-a967-c0403d73a973",
   "metadata": {
    "tags": []
   },
   "source": [
    "### Cálculo da entalpia molar do combustível na fase de vapor\n",
    "\n",
    "Podemos calcular a entalpia molar de cada composto, considerando a sua mudança de fase para o vapor, a partir da seguinte equação\n",
    "\n",
    "$$H(T) - H(T_0) = \\int_{T_0}^{T_{vap}} C_{p}^l(T) dT + \\Delta_{vap}H + \\int_{T_{vap}}^{T} C_{p}^g(T') dT' $$\n",
    "\n",
    "onde os termos $ C_{p}^l e C_{p}^g $ são as capacidades caloríficas das fases líquida e gasosa dos compostos, respectivamente, e o termo $ \\Delta_{vap}H $ é a variação de entalpia quando ocorre a ebulição.\n",
    "\n",
    "- Acetato de Etila\n",
    "    - $T_{vap} = 350.2 K$\n",
    "    - $T_0 = 290 K$\n",
    "    - $T = 360 K$\n",
    "    - $\\Delta_{vap}H = 31.94 kJ/mol$\n",
    "\n",
    "\n",
    "- Etanol\n",
    "    - $T_{vap} = 351.38 K$\n",
    "    - $T_0 = 298.15 K$\n",
    "    - $T = 361.75 K$\n",
    "    - $\\Delta_{vap}H = 42.3 kJ/mol$\n",
    "    \n",
    "Aplicando estes valores na equação de entalpias molares dos compostos, foram obtidos os seguintes valores de entalpia de vaporização:\n",
    "\n",
    "   - **Etanol**: $42.32 kJ/mol$\n",
    "   - **Acetato de Etila**: $31.9074 kJ/mol$\n",
    "\n",
    "A partir destes valores obtidos, nota-se que é necessária uma quantidade de energia razoável passada aos compostos para que ocorra sua vaporização. A adição de moléculas de Oxigênio pode diminuir ainda mais este valor.\n",
    "\n",
    "--------------------------"
   ]
  },
  {
   "cell_type": "markdown",
   "id": "cbcfe639-6c72-4de2-945a-98324580ab41",
   "metadata": {
    "tags": []
   },
   "source": [
    "### Entalpia da reação química na combustão\n",
    "\n",
    "Para sabermos o quanto de energia a combustão proverá para o ciclo Rankine, é necessário calcular a entalpia da reação química ($\\Delta_r H$) envolvendo os dois compostos da mistura, onde $\\Delta_r H$ é definido pela entalpia total dos produtos menos a entalpia total dos reagentes\n",
    "\n",
    "$$\\Delta_r H = H_{prod} - H_{reag}$$\n",
    "\n",
    "\n",
    "Dadas as fórmulas moleculares dos compostos\n",
    "- Etanol:\n",
    "    $C_2H_6O$\n",
    "\n",
    "- Acetato de Etila:\n",
    "    $CH_3COOCH_2CH_3$\n",
    "\n",
    "podemos construir a reação de combustão de cada composto, já balanceados, ficando na forma\n",
    "\n",
    "$$ Etanol: C_2H_6O(g) + 3O_2 \\rightarrow 2CO_2 + 3H_2O$$\n",
    "$$ Acetato de Etila: C_4H_8O_2 + 5O_2 \\rightarrow 4CO_2 + 4 H_2O$$\n",
    "\n",
    "**A reação envolve os dois compostos, visto que estes formam uma mistura azeótropa e não são separados quando evaporados.**\n",
    "\n",
    "Valor de $\\Delta_r H$ para o Etanol\n",
    "\n",
    "$H_{prod} = -787.04 + (-857.49)$\n",
    "\n",
    "$H_{reag} = -235.3 + 0$\n",
    "\n",
    "$\\Delta_r H = -1409.23 kJ/mol$\n",
    "\n",
    "<br>\n",
    "\n",
    "Valor $\\Delta_r H$ para o Acetato de Etila\n",
    "\n",
    "$H_{prod} = -1574.8 + (-1144)$\n",
    "\n",
    "$H_{reag} = -445.43 + 0$\n",
    "\n",
    "$\\Delta_r H = -2273.37 kJ/mol$\n",
    "\n",
    "O $\\Delta H$ possui uma propriedade aditiva de entalpias de reações, logo, podemos somar os valores da entalpia da reação de ambos os compostos, nos dando que a entalpia geral da reação é\n",
    "\n",
    "$$\\Delta_r H = -3682.6 kJ/mol$$ \n",
    "\n",
    "### Cálculo da entropia do sistema e da reação química\n",
    "\n",
    "### Energia livre de Gibbs em função da temperatura"
   ]
  },
  {
   "cell_type": "markdown",
   "id": "8421f5bb-526b-4464-95c1-11cdb0d9252a",
   "metadata": {},
   "source": [
    "### Referências\n",
    "\n",
    "[1] https://en.wikipedia.org/wiki/Ethyl_acetate_(data_page)\n",
    "\n",
    "[2] http://www.ddbst.com/en/EED/PCP/HCP_C21.php\n",
    "\n",
    "[3] https://www.maxwell.vrac.puc-rio.br/32689/32689_4.PDF\n",
    "\n",
    "[4] https://webbook.nist.gov/cgi/cbook.cgi?ID=C141786&Mask=6F#Thermo-Gas\n",
    "\n",
    "[5] http://www.ddbst.com/en/EED/PCP/HCP_C21.php\n",
    "\n",
    "[6] https://en.wikipedia.org/wiki/Ethanol_(data_page)\n",
    "\n",
    "[7] https://webbook.nist.gov/cgi/cbook.cgi?ID=C64175&Mask=1#Thermo-Gas\n",
    "\n",
    "[8] Donald A. McQuarrie, John D. Simon - Physical Chemistry A Molecular Approach"
   ]
  }
 ],
 "metadata": {
  "kernelspec": {
   "display_name": "ilumpy",
   "language": "python",
   "name": "ilumpy"
  },
  "language_info": {
   "codemirror_mode": {
    "name": "ipython",
    "version": 3
   },
   "file_extension": ".py",
   "mimetype": "text/x-python",
   "name": "python",
   "nbconvert_exporter": "python",
   "pygments_lexer": "ipython3",
   "version": "3.9.7"
  }
 },
 "nbformat": 4,
 "nbformat_minor": 5
}
