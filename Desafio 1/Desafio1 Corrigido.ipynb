{
 "cells": [
  {
   "cell_type": "markdown",
   "id": "f918aef9-90c1-46a9-b586-2ab4ed2f7c37",
   "metadata": {},
   "source": [
    "# Início"
   ]
  },
  {
   "cell_type": "markdown",
   "id": "d6d2bca3-47bb-4223-af6f-d3c743d9afb9",
   "metadata": {},
   "source": [
    "# Desafio 1 - Definição da mistura para o fornecimento de energia ao ciclo Rankine\n",
    "\n",
    "\n",
    "Neste projeto, escolhemos a mistura de acetato de etila e etanol. O etanol é um combustível altamente utilizado, no entanto, planejamos misturá-lo com o acetato de etila, visto que, além dele ser um composto utilizado para a síntese do etanol, ele também pode ser utilizado como um aditivo oxigenador potencial. Além disso, ele é um composto renovável, tem pouca toxicidade, um odor agradável e não é higroscópico, isto é, ele não tende a absorver a água."
   ]
  },
  {
   "cell_type": "markdown",
   "id": "85b7cf29-3760-4b1c-92da-717f7ce36c4c",
   "metadata": {},
   "source": [
    "## Reagentes escolhidos:\n",
    "\n",
    "    Etanol e Acetato de Etila\n",
    "    \n",
    "\n",
    "## Critérios:\n",
    "    Entalpia de combustão dos compostos:\n",
    "    \n",
    "        Composto 1: Etanol (C2H6O)       \n",
    "        \n",
    "        ΔH = -1370.7 kJ/mol\n",
    "        \n",
    "        Composto 2: Acetato de Etila (C4H8O2)\n",
    "        \n",
    "        ΔH = -2231 kJ/mol\n",
    "\n",
    "Ambos os compostos apresentam uma variação de entalpia de combustão relativamente alta, logo, não será necessário providenciar muito calor para que seja liberada a energia térmica que fará o ciclo Rankine funcionar, o que é de extrema importância para nosso projeto pois visamos obter combustíveis de fácil combustão e que providenciem uma relativamente alta energia. \n",
    "\n",
    "A adição do Acetato de Etila juntamente ao Etanol pode apresentar uma melhora significativa de desempenho, pois devido à sua maior Entalpia de Combustão, liberará maior energia ao ciclo Rankine do que a utilização de apenas o Etanol. Apesar de sua combustão poder danificar a máquina/motor o qual ele se encontra, a melhoria de desempenho ainda apresenta maior relevância."
   ]
  },
  {
   "cell_type": "markdown",
   "id": "72daf1fb-4427-4e68-90d1-8d96a2df28b0",
   "metadata": {},
   "source": [
    "## Diagrama de Fases:"
   ]
  },
  {
   "cell_type": "markdown",
   "id": "9b2f6823-adda-4587-9590-effc19425daa",
   "metadata": {},
   "source": [
    "<dt>\n",
    "<center> \n",
    "<img src=\"VLE Ethanol.png\" style=\"width:400px;height:300px\"/>\n",
    "</center>\n",
    "</dt>"
   ]
  },
  {
   "cell_type": "markdown",
   "id": "2afc973d-f4d0-45a8-a1ad-72cf161b3aa8",
   "metadata": {},
   "source": [
    "<center>\n",
    "    Fig. 1: Diagrama de Fase do Acetato de Etila e do Etanol, em função da Temperatura. No gráfico, nota-se que apresenta um comportamento Azeotrópico, ou seja, a mistura destes dois compostos apresentam seu ponto de ebulição constante.\n",
    "</center>"
   ]
  },
  {
   "cell_type": "markdown",
   "id": "685a7fe0-81ff-42ff-8f25-6db3610b0f28",
   "metadata": {},
   "source": [
    "## Referências\n",
    "\n",
    "- **Murti P.S.; van Winkle M.: Vapor-Liquid Equilibria for Binary Systems of Methanol, Ethyl Alcohol, 1-Propanol, and 2-Propanol with Ethyl Acetate and 1-Propanol-Water. Ind.Eng.Chem. Chem.Eng.Data Series 3 (1958) 72-81**\n",
    "\n",
    "- **Griswold J.; Chu P.L.; Winsauer W.O.: (Separation of Synthesis Mixtures) Phase Equilibria in Ethyl Alcohol-Ethyl Acetate-Water System. Ind.Eng.Chem. 41 (1949) 2352-2358**\n",
    "\n",
    "- **Yeşilyurt, M.K., Erol, D., Yaman, H. et al. Effects of using ethyl acetate as a surprising additive in SI engine pertaining to an environmental perspective. Int. J. Environ. Sci. Technol. 19, 9427–9456 (2022). https://doi.org/10.1007/s13762-021-03706-3**\n",
    "\n",
    "- **Zhang W, Zhang J, Deng M, Qi X, Nie F, Zhang Q. A promising high-energy-density material. Nat Commun. 2017 Aug 3;8(1):181. doi: 10.1038/s41467-017-00286-0. PMID: 28769119; PMCID: PMC5541047.**\n",
    "\n",
    "- **https://patents.google.com/patent/US20110296744A1/en**"
   ]
  },
  {
   "cell_type": "markdown",
   "id": "58080bcf-85a3-4304-b7c2-1a7013449f5a",
   "metadata": {},
   "source": [
    "# Fim"
   ]
  },
  {
   "cell_type": "markdown",
   "id": "d1ad121c-30b4-4ac3-b35c-9ac5009450fb",
   "metadata": {},
   "source": [
    "### Avaliação por pares:\n",
    "\n",
    "#### Definição da Mistura e Introdução\n",
    "\n",
    "O trabalho está bem formatado e a motivação pode ser considerada relevante para a pesquisa no ramo de combustão já que o etanol é um composto muito estudado e estabelecido na indústria de combustíveis. Ele é considerado renovável e sustentável, visto que pode ser produzido por meio da fermentação do bagaço produzido em indústrias vegetais. O acetato de etila também é um composto com relevância na indústria do combustível, pois sua reação com água produz etanol, como foi descrito pelos autores. No entanto, dentro desse contexto, é de certa importância notar que em um ambiente industrial a simples contaminação com água poderia portanto quebrar a razão molar de moléculas de acetato de etila e de etanol, desbalanceando a estequiometria da reação original, o que seria revelado com a presença de ácido acético. Se a intenção do acetato do etila é justamente reaproveitar traços de água produzidos em combustões anteriores justamente pela capacidade higroscópica citada no parágrafo, a mistura realmente é muito interessante como combustível, porém também deve-se pensar na formação do ácido acético na mistura, o que mudaria a reação de combustão como um todo. Assim, a escolha do composto na mistura tem sua razão num ambiente teórico, porém para um ciclo de Rankine realístico talvez seja difícil descrever a queima da mistura como um sistema binário e não ternário.\n",
    "\n",
    "Também fora citado nesse parágrafo que o acetato de etila apresentaria na mistura a função de um \"Aditivo Oxigenador\", o que não é explicado na continuação do parágrado. Os revisadores percebem que deveria ser importante a explicação desses conceitos para a construção da introdução.\n",
    "\n",
    "#### Critérios e Diagrama de Fases\n",
    "\n",
    "Os revisores entendem que os aspectos químicos estruturais da mistura poderiam ter sido mais desenvolvidos, como a descrição da entalpia e talvez quanto ao potencial químico envolvido, assim como a equação estequiométrica que está explicada em palavras mas não se encontra representada no trabalho e as interações intermoleculares que descreveriam a dinâmica da mistura. Ou seja, o conteúdo abordado carece de aspectos químicos básicos que são importantes para um trabalho que avalia exatamente o uso potencial de uma mistura num ciclo de transformações e transferências de energia, o que poderia prejudicar a integridade do trabalho como um todo.\n",
    "\n",
    "Na descrição do Diagrama de Fases, é dito que a mistura tem comportamento azeotrópico porque a \"mistura desses dois compostos apresenta seu ponto de ebulição constante\". Os revisores consideram essa explicação confusa e superficial. Qual o motivo e relevância dessa caracterização? O que significa ter o ponto de ebulição constante? O correto não seria dizer que ambas as misturas tem um ponto de convergência de temperatura de ebulição? Na verdade, o gráfico está muito mal descrito, e os revisores simplesmente não conseguiram compreender o que ele representa. Também se sentiu falta de uma interpretação melhor a respeito do diagrama de fases, e sugerimos ideias ou tentativas de previsões a respeito da imagem, de tal forma que concordassem com o que foi dito na introdução mas agora carregadas por números que gerariam uma confiabilidade e domínio do conteúdo pelos autores. Assim como pequenos passos além da entalpia, caminhando em direção a identidade termodinâmica usando suas fórmulas e dinâmica de moléculas.\n",
    "\n"
   ]
  },
  {
   "cell_type": "markdown",
   "id": "c635f7bb-9256-4cc4-8c23-f4a33edbd4c5",
   "metadata": {},
   "source": [
    "AJP: Os dados e as escolhidas solicitadas foram corretamente apresentados. Entretanto, concordo com os referees que os aspectos termodinâmicos poderiam ser melhor discutidos. Exemplo: o conceito de entalpia e sua aplicabilidade; a definição de mistura azeotrópica."
   ]
  }
 ],
 "metadata": {
  "kernelspec": {
   "display_name": "Python 3 (ipykernel)",
   "language": "python",
   "name": "python3"
  },
  "language_info": {
   "codemirror_mode": {
    "name": "ipython",
    "version": 3
   },
   "file_extension": ".py",
   "mimetype": "text/x-python",
   "name": "python",
   "nbconvert_exporter": "python",
   "pygments_lexer": "ipython3",
   "version": "3.9.7"
  }
 },
 "nbformat": 4,
 "nbformat_minor": 5
}
