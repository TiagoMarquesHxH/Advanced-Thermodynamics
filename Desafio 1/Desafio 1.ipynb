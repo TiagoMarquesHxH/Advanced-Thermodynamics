{
 "cells": [
  {
   "cell_type": "markdown",
   "id": "f918aef9-90c1-46a9-b586-2ab4ed2f7c37",
   "metadata": {},
   "source": [
    "# Início"
   ]
  },
  {
   "cell_type": "markdown",
   "id": "d6d2bca3-47bb-4223-af6f-d3c743d9afb9",
   "metadata": {},
   "source": [
    "# Desafio 1 - Definição da mistura para o fornecimento de energia ao ciclo Rankine\n",
    "\n",
    "\n",
    "Neste projeto, escolhemos a mistura de acetato de etila e etanol. O etanol é um combustível altamente utilizado, no entanto, planejamos misturá-lo com o acetato de etila, visto que, além dele ser um composto utilizado para a síntese do etanol, ele também pode ser utilizado como um aditivo oxigenador potencial. Além disso, ele é um composto renovável, tem pouca toxicidade, um odor agradável e não é higroscópico, isto é, ele não tende a absorver a água."
   ]
  },
  {
   "cell_type": "markdown",
   "id": "85b7cf29-3760-4b1c-92da-717f7ce36c4c",
   "metadata": {},
   "source": [
    "## Reagentes escolhidos:\n",
    "\n",
    "    Etanol e Acetato de Etila\n",
    "    \n",
    "\n",
    "## Critérios:\n",
    "    Entalpia de combustão dos compostos:\n",
    "    \n",
    "        Composto 1: Etanol (C2H6O)       \n",
    "        \n",
    "        ΔH = -1370.7 kJ/mol\n",
    "        \n",
    "        Composto 2: Acetato de Etila (C4H8O2)\n",
    "        \n",
    "        ΔH = -2231 kJ/mol\n",
    "\n",
    "Ambos os compostos apresentam uma variação de entalpia de combustão relativamente alta, logo, não será necessário providenciar muito calor para que seja liberada a energia térmica que fará o ciclo Rankine funcionar, o que é de extrema importância para nosso projeto pois visamos obter combustíveis de fácil combustão e que providenciem uma relativamente alta energia. \n",
    "\n",
    "A adição do Acetato de Etila juntamente ao Etanol pode apresentar uma melhora significativa de desempenho, pois devido à sua maior Entalpia de Combustão, liberará maior energia ao ciclo Rankine do que a utilização de apenas o Etanol. Apesar de sua combustão poder danificar a máquina/motor o qual ele se encontra, a melhoria de desempenho ainda apresenta maior relevância."
   ]
  },
  {
   "cell_type": "markdown",
   "id": "72daf1fb-4427-4e68-90d1-8d96a2df28b0",
   "metadata": {},
   "source": [
    "## Diagrama de Fases:"
   ]
  },
  {
   "cell_type": "markdown",
   "id": "9b2f6823-adda-4587-9590-effc19425daa",
   "metadata": {},
   "source": [
    "<dt>\n",
    "<center> \n",
    "<img src=\"VLE Ethanol.png\" style=\"width:400px;height:300px\"/>\n",
    "</center>\n",
    "</dt>"
   ]
  },
  {
   "cell_type": "markdown",
   "id": "2afc973d-f4d0-45a8-a1ad-72cf161b3aa8",
   "metadata": {},
   "source": [
    "<center>\n",
    "    Fig. 1: Diagrama de Fase do Acetato de Etila e do Etanol, em função da Temperatura. No gráfico, nota-se que apresenta um comportamento Azeotrópico, ou seja, a mistura destes dois compostos apresentam seu ponto de ebulição constante.\n",
    "</center>"
   ]
  },
  {
   "cell_type": "markdown",
   "id": "685a7fe0-81ff-42ff-8f25-6db3610b0f28",
   "metadata": {},
   "source": [
    "## Referências\n",
    "\n",
    "- **Murti P.S.; van Winkle M.: Vapor-Liquid Equilibria for Binary Systems of Methanol, Ethyl Alcohol, 1-Propanol, and 2-Propanol with Ethyl Acetate and 1-Propanol-Water. Ind.Eng.Chem. Chem.Eng.Data Series 3 (1958) 72-81**\n",
    "\n",
    "- **Griswold J.; Chu P.L.; Winsauer W.O.: (Separation of Synthesis Mixtures) Phase Equilibria in Ethyl Alcohol-Ethyl Acetate-Water System. Ind.Eng.Chem. 41 (1949) 2352-2358**\n",
    "\n",
    "- **Yeşilyurt, M.K., Erol, D., Yaman, H. et al. Effects of using ethyl acetate as a surprising additive in SI engine pertaining to an environmental perspective. Int. J. Environ. Sci. Technol. 19, 9427–9456 (2022). https://doi.org/10.1007/s13762-021-03706-3**\n",
    "\n",
    "- **Zhang W, Zhang J, Deng M, Qi X, Nie F, Zhang Q. A promising high-energy-density material. Nat Commun. 2017 Aug 3;8(1):181. doi: 10.1038/s41467-017-00286-0. PMID: 28769119; PMCID: PMC5541047.**\n",
    "\n",
    "- **https://patents.google.com/patent/US20110296744A1/en**"
   ]
  },
  {
   "cell_type": "markdown",
   "id": "58080bcf-85a3-4304-b7c2-1a7013449f5a",
   "metadata": {},
   "source": [
    "# Fim"
   ]
  }
 ],
 "metadata": {
  "kernelspec": {
   "display_name": "ilumpy",
   "language": "python",
   "name": "ilumpy"
  },
  "language_info": {
   "codemirror_mode": {
    "name": "ipython",
    "version": 3
   },
   "file_extension": ".py",
   "mimetype": "text/x-python",
   "name": "python",
   "nbconvert_exporter": "python",
   "pygments_lexer": "ipython3",
   "version": "3.9.7"
  }
 },
 "nbformat": 4,
 "nbformat_minor": 5
}
